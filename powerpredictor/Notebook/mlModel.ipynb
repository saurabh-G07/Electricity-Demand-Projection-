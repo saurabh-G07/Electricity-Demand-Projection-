{
 "cells": [
  {
   "cell_type": "code",
   "execution_count": 1,
   "id": "926760b0-7587-44d2-980d-87e3052e19ce",
   "metadata": {},
   "outputs": [],
   "source": [
    "import pandas as pd\n",
    "import numpy as np\n",
    "from sklearn.model_selection import train_test_split\n",
    "from sklearn.metrics import mean_squared_error\n",
    "from sklearn.preprocessing import LabelEncoder, MinMaxScaler\n",
    "import tensorflow as tf\n",
    "from tensorflow.keras.models import Sequential\n",
    "from tensorflow.keras.layers import Dense, LSTM"
   ]
  },
  {
   "cell_type": "code",
   "execution_count": 2,
   "id": "24d99b47-048d-400e-b937-4774d1fbf038",
   "metadata": {},
   "outputs": [],
   "source": [
    "# Simulated dataset\n",
    "data = pd.read_csv(\"C:/Users/Owner/Desktop/Tulas/power_load_forecasting_dataset.csv\")"
   ]
  },
  {
   "cell_type": "code",
   "execution_count": 3,
   "id": "cf6499a9-d28e-4aa8-a559-33aa3a4f966e",
   "metadata": {},
   "outputs": [],
   "source": [
    "# Feature Engineering (assuming the dataset has timestamp and other features)\n",
    "data['hour'] = pd.to_datetime(data['Timestamp']).dt.hour\n",
    "data['day_of_week'] = pd.to_datetime(data['Timestamp']).dt.dayofweek\n",
    "data['month'] = pd.to_datetime(data['Timestamp']).dt.month"
   ]
  },
  {
   "cell_type": "code",
   "execution_count": 4,
   "id": "3b6296c0-a067-4c86-8c64-01b612c8370a",
   "metadata": {},
   "outputs": [],
   "source": [
    "# Select features (including Region) and target\n",
    "X = data[['Temperature (°C)','Humidity (%)','Wind Speed (km/h)','Rain (mm)','Public Holiday (0/1)','Weekday/Weekend (0/1)',\n",
    "          'Solar Generation (MW)','Region','Population Growth Rate (%)','hour','day_of_week','month']]\n",
    "y = data['Power Load (MW)']"
   ]
  },
  {
   "cell_type": "code",
   "execution_count": 5,
   "id": "247a1f39-b960-46e8-92c7-0eddd494c979",
   "metadata": {},
   "outputs": [],
   "source": [
    "# List of numerical features to be scaled\n",
    "numerical_features = ['Temperature (°C)', 'Humidity (%)', 'Wind Speed (km/h)', \n",
    "                      'Rain (mm)', 'Public Holiday (0/1)', 'Weekday/Weekend (0/1)',\n",
    "                      'Solar Generation (MW)', 'Population Growth Rate (%)', \n",
    "                      'hour', 'day_of_week', 'month']"
   ]
  },
  {
   "cell_type": "code",
   "execution_count": 6,
   "id": "a83b80eb-49c7-4eb4-a848-979e030280c5",
   "metadata": {},
   "outputs": [],
   "source": [
    "# Initialize the scaler\n",
    "scaler = MinMaxScaler()"
   ]
  },
  {
   "cell_type": "code",
   "execution_count": 7,
   "id": "fdfd7887-60b4-4dd1-ac40-6bf20c2d761b",
   "metadata": {},
   "outputs": [],
   "source": [
    "# Apply scaling to the numerical features\n",
    "data[numerical_features] = scaler.fit_transform(data[numerical_features])"
   ]
  },
  {
   "cell_type": "code",
   "execution_count": 8,
   "id": "223ee933-4d00-4a7a-8006-56f63b686524",
   "metadata": {},
   "outputs": [],
   "source": [
    "# Split into training and test sets\n",
    "X_train, X_test, y_train, y_test = train_test_split(X, y, test_size=0.2, random_state=42)"
   ]
  },
  {
   "cell_type": "code",
   "execution_count": 9,
   "id": "f7d44d1d-c557-44fa-967f-649e181dbdec",
   "metadata": {},
   "outputs": [],
   "source": [
    "# Apply label encoding to the 'Region' column\n",
    "label_encoder = LabelEncoder()\n",
    "X_train['Region'] = label_encoder.fit_transform(X_train['Region'])\n",
    "X_test['Region'] = label_encoder.transform(X_test['Region'])"
   ]
  },
  {
   "cell_type": "code",
   "execution_count": 10,
   "id": "1b93856e-e36c-4a7e-874d-91e78aeac7a8",
   "metadata": {},
   "outputs": [],
   "source": [
    "# Convert DataFrame to NumPy array\n",
    "X_train = X_train.values\n",
    "X_test= X_test.values"
   ]
  },
  {
   "cell_type": "code",
   "execution_count": 11,
   "id": "6618a792-194a-45e7-8d23-fc26616d1343",
   "metadata": {},
   "outputs": [],
   "source": [
    "# Reshape to 3D: (samples, time steps, features)\n",
    "X_train = X_train.reshape((X_train.shape[0], 1, X_train.shape[1]))\n",
    "X_test = X_test.reshape((X_test.shape[0], 1, X_test.shape[1]))"
   ]
  },
  {
   "cell_type": "code",
   "execution_count": 12,
   "id": "7b997199-cfca-434a-bbe6-fa1b596871c2",
   "metadata": {},
   "outputs": [],
   "source": [
    "# Define LSTM model\n",
    "lstm_model = Sequential()"
   ]
  },
  {
   "cell_type": "code",
   "execution_count": 13,
   "id": "dd2e0f5f-1d22-4a82-be17-c91b9af68984",
   "metadata": {},
   "outputs": [
    {
     "name": "stderr",
     "output_type": "stream",
     "text": [
      "C:\\Python312\\Lib\\site-packages\\keras\\src\\layers\\rnn\\rnn.py:204: UserWarning: Do not pass an `input_shape`/`input_dim` argument to a layer. When using Sequential models, prefer using an `Input(shape)` object as the first layer in the model instead.\n",
      "  super().__init__(**kwargs)\n"
     ]
    }
   ],
   "source": [
    "# Add LSTM layers\n",
    "lstm_model.add(LSTM(100, activation='relu', input_shape=(X_train.shape[1], X_train.shape[2])))\n",
    "lstm_model.add(Dense(50, activation='relu'))\n",
    "lstm_model.add(Dense(1))\n"
   ]
  },
  {
   "cell_type": "code",
   "execution_count": 14,
   "id": "4ca102b7-af19-4661-8b9d-c2608c719deb",
   "metadata": {},
   "outputs": [],
   "source": [
    "# Compile the model\n",
    "lstm_model.compile(optimizer='adam', loss='mean_squared_error')"
   ]
  },
  {
   "cell_type": "code",
   "execution_count": 15,
   "id": "cccff86d-89c0-4982-a59d-02c14042663a",
   "metadata": {},
   "outputs": [
    {
     "name": "stdout",
     "output_type": "stream",
     "text": [
      "Epoch 1/20\n",
      "\u001b[1m500/500\u001b[0m \u001b[32m━━━━━━━━━━━━━━━━━━━━\u001b[0m\u001b[37m\u001b[0m \u001b[1m7s\u001b[0m 5ms/step - loss: 5465182.0000 - val_loss: 1069423.3750\n",
      "Epoch 2/20\n",
      "\u001b[1m500/500\u001b[0m \u001b[32m━━━━━━━━━━━━━━━━━━━━\u001b[0m\u001b[37m\u001b[0m \u001b[1m2s\u001b[0m 4ms/step - loss: 1072116.1250 - val_loss: 1017439.1250\n",
      "Epoch 3/20\n",
      "\u001b[1m500/500\u001b[0m \u001b[32m━━━━━━━━━━━━━━━━━━━━\u001b[0m\u001b[37m\u001b[0m \u001b[1m2s\u001b[0m 4ms/step - loss: 1048680.1250 - val_loss: 1008818.3125\n",
      "Epoch 4/20\n",
      "\u001b[1m500/500\u001b[0m \u001b[32m━━━━━━━━━━━━━━━━━━━━\u001b[0m\u001b[37m\u001b[0m \u001b[1m2s\u001b[0m 4ms/step - loss: 1020330.0000 - val_loss: 951782.3750\n",
      "Epoch 5/20\n",
      "\u001b[1m500/500\u001b[0m \u001b[32m━━━━━━━━━━━━━━━━━━━━\u001b[0m\u001b[37m\u001b[0m \u001b[1m2s\u001b[0m 4ms/step - loss: 982365.0000 - val_loss: 964587.7500\n",
      "Epoch 6/20\n",
      "\u001b[1m500/500\u001b[0m \u001b[32m━━━━━━━━━━━━━━━━━━━━\u001b[0m\u001b[37m\u001b[0m \u001b[1m2s\u001b[0m 4ms/step - loss: 975685.0625 - val_loss: 930310.6250\n",
      "Epoch 7/20\n",
      "\u001b[1m500/500\u001b[0m \u001b[32m━━━━━━━━━━━━━━━━━━━━\u001b[0m\u001b[37m\u001b[0m \u001b[1m2s\u001b[0m 4ms/step - loss: 951469.3125 - val_loss: 893201.5625\n",
      "Epoch 8/20\n",
      "\u001b[1m500/500\u001b[0m \u001b[32m━━━━━━━━━━━━━━━━━━━━\u001b[0m\u001b[37m\u001b[0m \u001b[1m2s\u001b[0m 4ms/step - loss: 946934.0625 - val_loss: 885655.5625\n",
      "Epoch 9/20\n",
      "\u001b[1m500/500\u001b[0m \u001b[32m━━━━━━━━━━━━━━━━━━━━\u001b[0m\u001b[37m\u001b[0m \u001b[1m2s\u001b[0m 4ms/step - loss: 903606.0625 - val_loss: 860976.7500\n",
      "Epoch 10/20\n",
      "\u001b[1m500/500\u001b[0m \u001b[32m━━━━━━━━━━━━━━━━━━━━\u001b[0m\u001b[37m\u001b[0m \u001b[1m2s\u001b[0m 4ms/step - loss: 876202.4375 - val_loss: 869367.9375\n",
      "Epoch 11/20\n",
      "\u001b[1m500/500\u001b[0m \u001b[32m━━━━━━━━━━━━━━━━━━━━\u001b[0m\u001b[37m\u001b[0m \u001b[1m2s\u001b[0m 4ms/step - loss: 883048.8125 - val_loss: 806774.1875\n",
      "Epoch 12/20\n",
      "\u001b[1m500/500\u001b[0m \u001b[32m━━━━━━━━━━━━━━━━━━━━\u001b[0m\u001b[37m\u001b[0m \u001b[1m2s\u001b[0m 4ms/step - loss: 834530.0000 - val_loss: 863302.7500\n",
      "Epoch 13/20\n",
      "\u001b[1m500/500\u001b[0m \u001b[32m━━━━━━━━━━━━━━━━━━━━\u001b[0m\u001b[37m\u001b[0m \u001b[1m2s\u001b[0m 4ms/step - loss: 818371.6250 - val_loss: 801805.8750\n",
      "Epoch 14/20\n",
      "\u001b[1m500/500\u001b[0m \u001b[32m━━━━━━━━━━━━━━━━━━━━\u001b[0m\u001b[37m\u001b[0m \u001b[1m2s\u001b[0m 4ms/step - loss: 874311.3750 - val_loss: 779449.8750\n",
      "Epoch 15/20\n",
      "\u001b[1m500/500\u001b[0m \u001b[32m━━━━━━━━━━━━━━━━━━━━\u001b[0m\u001b[37m\u001b[0m \u001b[1m2s\u001b[0m 4ms/step - loss: 840801.1875 - val_loss: 766779.5625\n",
      "Epoch 16/20\n",
      "\u001b[1m500/500\u001b[0m \u001b[32m━━━━━━━━━━━━━━━━━━━━\u001b[0m\u001b[37m\u001b[0m \u001b[1m2s\u001b[0m 4ms/step - loss: 823233.0000 - val_loss: 811826.5000\n",
      "Epoch 17/20\n",
      "\u001b[1m500/500\u001b[0m \u001b[32m━━━━━━━━━━━━━━━━━━━━\u001b[0m\u001b[37m\u001b[0m \u001b[1m2s\u001b[0m 4ms/step - loss: 833252.7500 - val_loss: 747912.0625\n",
      "Epoch 18/20\n",
      "\u001b[1m500/500\u001b[0m \u001b[32m━━━━━━━━━━━━━━━━━━━━\u001b[0m\u001b[37m\u001b[0m \u001b[1m2s\u001b[0m 4ms/step - loss: 814867.2500 - val_loss: 832449.7500\n",
      "Epoch 19/20\n",
      "\u001b[1m500/500\u001b[0m \u001b[32m━━━━━━━━━━━━━━━━━━━━\u001b[0m\u001b[37m\u001b[0m \u001b[1m2s\u001b[0m 4ms/step - loss: 811304.5000 - val_loss: 764833.8750\n",
      "Epoch 20/20\n",
      "\u001b[1m500/500\u001b[0m \u001b[32m━━━━━━━━━━━━━━━━━━━━\u001b[0m\u001b[37m\u001b[0m \u001b[1m2s\u001b[0m 4ms/step - loss: 829555.0625 - val_loss: 798419.6875\n"
     ]
    },
    {
     "data": {
      "text/plain": [
       "<keras.src.callbacks.history.History at 0x1acffa81550>"
      ]
     },
     "execution_count": 15,
     "metadata": {},
     "output_type": "execute_result"
    }
   ],
   "source": [
    "# Train the model\n",
    "lstm_model.fit(X_train, y_train, epochs=20, batch_size=32, validation_data=(X_test, y_test))"
   ]
  },
  {
   "cell_type": "code",
   "execution_count": 16,
   "id": "8381507b-fa7d-4aa9-b474-f0227aa3162a",
   "metadata": {},
   "outputs": [
    {
     "name": "stdout",
     "output_type": "stream",
     "text": [
      "\u001b[1m125/125\u001b[0m \u001b[32m━━━━━━━━━━━━━━━━━━━━\u001b[0m\u001b[37m\u001b[0m \u001b[1m1s\u001b[0m 2ms/step\n",
      "LSTM RMSE: 893.5433869738987\n"
     ]
    }
   ],
   "source": [
    "# Predict and evaluate\n",
    "lstm_y_pred = lstm_model.predict(X_test)\n",
    "lstm_rmse = np.sqrt(np.mean((y_test - lstm_y_pred.reshape(-1))**2))\n",
    "print(f'LSTM RMSE: {lstm_rmse}')"
   ]
  },
  {
   "cell_type": "code",
   "execution_count": 17,
   "id": "d0140086-6a0c-435d-8aef-1ecd0719f464",
   "metadata": {},
   "outputs": [],
   "source": [
    "# Example input factors (reshaped to match LSTM's input requirements)\n",
    "new_data =np.array([[\n",
    "    50, # Temperature\n",
    "    65,  # Humidity\n",
    "    15,  # Wind Speed\n",
    "    0,   # Rain (mm)\n",
    "    0,   # Public Holiday (0 or 1)\n",
    "    1,   # Weekday/Weekend (0 or 1)\n",
    "    120, # Solar Generation (MW)\n",
    "    2,    # Region (encoded)\n",
    "    2.8, # Population Growth Rate\n",
    "    24,  # Hour of the day\n",
    "    2,   # Day of the week\n",
    "    9   # Month\n",
    "]])"
   ]
  },
  {
   "cell_type": "code",
   "execution_count": 18,
   "id": "e6dec063-93bd-4264-a5ae-ebb1aeef519f",
   "metadata": {},
   "outputs": [],
   "source": [
    "# Reshape to (samples, time_steps, features)\n",
    "new_data = new_data.reshape((1, 1, new_data.shape[1]))  # (1 sample, 1 time step, 12 features)"
   ]
  },
  {
   "cell_type": "code",
   "execution_count": 19,
   "id": "c4fdb27b-3018-4c26-a569-e8e1764001b6",
   "metadata": {},
   "outputs": [
    {
     "name": "stdout",
     "output_type": "stream",
     "text": [
      "\u001b[1m1/1\u001b[0m \u001b[32m━━━━━━━━━━━━━━━━━━━━\u001b[0m\u001b[37m\u001b[0m \u001b[1m0s\u001b[0m 419ms/step\n"
     ]
    }
   ],
   "source": [
    "# Make prediction using the model\n",
    "predicted_power_load = lstm_model.predict(new_data)"
   ]
  },
  {
   "cell_type": "code",
   "execution_count": 20,
   "id": "6433b985-ed78-4e08-8bc2-3a195c3ad038",
   "metadata": {},
   "outputs": [
    {
     "name": "stdout",
     "output_type": "stream",
     "text": [
      "Predicted Power Load (MW): 3816.4833984375\n"
     ]
    }
   ],
   "source": [
    "# Print predicted power load\n",
    "print(f\"Predicted Power Load (MW): {predicted_power_load[0][0]}\")"
   ]
  },
  {
   "cell_type": "code",
   "execution_count": 21,
   "id": "30f993bf-a1bd-4bcd-a3c9-d0db3af7d4af",
   "metadata": {},
   "outputs": [],
   "source": [
    "from joblib import dump"
   ]
  },
  {
   "cell_type": "code",
   "execution_count": 22,
   "id": "572a61e8-c34e-424c-9d4e-c476924d49b0",
   "metadata": {},
   "outputs": [
    {
     "data": {
      "text/plain": [
       "['./../savedModels/models.joblib']"
      ]
     },
     "execution_count": 22,
     "metadata": {},
     "output_type": "execute_result"
    }
   ],
   "source": [
    "dump(lstm_model, './../savedModels/models.joblib')"
   ]
  },
  {
   "cell_type": "code",
   "execution_count": null,
   "id": "4a083807-4b81-4df6-a6b6-bb72c34c2601",
   "metadata": {},
   "outputs": [],
   "source": []
  }
 ],
 "metadata": {
  "kernelspec": {
   "display_name": "Python 3 (ipykernel)",
   "language": "python",
   "name": "python3"
  },
  "language_info": {
   "codemirror_mode": {
    "name": "ipython",
    "version": 3
   },
   "file_extension": ".py",
   "mimetype": "text/x-python",
   "name": "python",
   "nbconvert_exporter": "python",
   "pygments_lexer": "ipython3",
   "version": "3.12.6"
  }
 },
 "nbformat": 4,
 "nbformat_minor": 5
}
